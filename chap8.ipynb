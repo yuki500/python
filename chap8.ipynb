{
 "cells": [
  {
   "cell_type": "markdown",
   "metadata": {},
   "source": [
    "# 自訂函數"
   ]
  },
  {
   "cell_type": "code",
   "execution_count": 1,
   "metadata": {},
   "outputs": [
    {
     "name": "stdout",
     "output_type": "stream",
     "text": [
      "314.1592653589793\n"
     ]
    }
   ],
   "source": [
    "import math\n",
    "\n",
    "def circle(radius):\n",
    "    area = radius * radius * math.pi\n",
    "    return area\n",
    "\n",
    "print(circle(10))"
   ]
  },
  {
   "cell_type": "code",
   "execution_count": 2,
   "metadata": {},
   "outputs": [
    {
     "name": "stdout",
     "output_type": "stream",
     "text": [
      "請輸入圓的半徑:15\n",
      "圓的面積為: 706.8583470577034\n"
     ]
    }
   ],
   "source": [
    "import math\n",
    "\n",
    "def circle(radius):\n",
    "    area = radius * radius * math.pi\n",
    "    return area\n",
    "r=input(\"請輸入圓的半徑:\")\n",
    "print(\"圓的面積為:\",circle(float(r)))"
   ]
  },
  {
   "cell_type": "markdown",
   "metadata": {},
   "source": [
    "# example: exchange sort"
   ]
  },
  {
   "cell_type": "code",
   "execution_count": 3,
   "metadata": {},
   "outputs": [
    {
     "name": "stdout",
     "output_type": "stream",
     "text": [
      "[67, 32, 48, 79, 23, 96, 72, 51, 90, 57]\n",
      "[23, 32, 48, 51, 57, 67, 72, 79, 90, 96]\n"
     ]
    }
   ],
   "source": [
    "import random\n",
    "\n",
    "def exchange_sort(input_list):\n",
    "    a=input_list\n",
    "    for i in range(0, len(input_list)-1):\n",
    "        for j in range(i+1, len(input_list)):\n",
    "            if a[i] > a[j]:\n",
    "                a[i], a[j]=a[j], a[i]\n",
    "    return a\n",
    "\n",
    "my_vector = random.sample (range(0,100), 10)\n",
    "print(my_vector)\n",
    "print(exchange_sort(my_vector))"
   ]
  },
  {
   "cell_type": "code",
   "execution_count": 11,
   "metadata": {},
   "outputs": [
    {
     "name": "stdout",
     "output_type": "stream",
     "text": [
      "[25, 78, 69, 28, 24, 21, 99, 45, 85, 52]\n",
      "[99, 85, 78, 69, 52, 45, 28, 25, 24, 21]\n"
     ]
    }
   ],
   "source": [
    "import random\n",
    "\n",
    "def exchange_sort(input_list):\n",
    "    a=input_list\n",
    "    for i in range(0, len(input_list)-1):\n",
    "        for j in range(i+1, len(input_list)):\n",
    "            if a[i] < a[j]:\n",
    "                a[i], a[j]=a[j], a[i]\n",
    "    return a\n",
    "\n",
    "my_vector = random.sample (range(0,100), 10)\n",
    "print(my_vector)\n",
    "print(exchange_sort(my_vector))"
   ]
  },
  {
   "cell_type": "code",
   "execution_count": null,
   "metadata": {},
   "outputs": [],
   "source": []
  },
  {
   "cell_type": "code",
   "execution_count": null,
   "metadata": {},
   "outputs": [],
   "source": []
  }
 ],
 "metadata": {
  "kernelspec": {
   "display_name": "Python 3",
   "language": "python",
   "name": "python3"
  },
  "language_info": {
   "codemirror_mode": {
    "name": "ipython",
    "version": 3
   },
   "file_extension": ".py",
   "mimetype": "text/x-python",
   "name": "python",
   "nbconvert_exporter": "python",
   "pygments_lexer": "ipython3",
   "version": "3.7.1"
  }
 },
 "nbformat": 4,
 "nbformat_minor": 2
}
