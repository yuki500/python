{
 "cells": [
  {
   "cell_type": "markdown",
   "metadata": {},
   "source": [
    "# 流程控制"
   ]
  },
  {
   "cell_type": "code",
   "execution_count": 1,
   "metadata": {},
   "outputs": [
    {
     "name": "stdout",
     "output_type": "stream",
     "text": [
      "請輸入攝氏溫度:20\n",
      "華氏溫度為: 68.0\n"
     ]
    }
   ],
   "source": [
    "celsius=float(input('請輸入攝氏溫度:'))\n",
    "fahrenheit=(9/5) * celsius + 32\n",
    "print('華氏溫度為:',fahrenheit)"
   ]
  },
  {
   "cell_type": "code",
   "execution_count": 3,
   "metadata": {},
   "outputs": [
    {
     "name": "stdout",
     "output_type": "stream",
     "text": [
      "樣本= [5, 8, 9, 6, 4, 1, 2, 3, 5, 6]\n",
      "平均數= 4.9\n",
      "最大數= 9\n",
      "最小數= 1\n",
      "變異數= 6.32\n",
      "標準差= 2.51\n"
     ]
    }
   ],
   "source": [
    "import statistics as st\n",
    "sample=[5,8,9,6,4,1,2,3,5,6]\n",
    "print('樣本=',sample)\n",
    "print('平均數=',st.mean(sample))\n",
    "print('最大數=',max(sample))\n",
    "print('最小數=',min(sample))\n",
    "print('變異數=',round(st.variance(sample),2))\n",
    "print('標準差=',round(st.stdev(sample),2))"
   ]
  },
  {
   "cell_type": "markdown",
   "metadata": {},
   "source": [
    "# if"
   ]
  },
  {
   "cell_type": "code",
   "execution_count": 8,
   "metadata": {},
   "outputs": [
    {
     "name": "stdout",
     "output_type": "stream",
     "text": [
      "請輸入numA:6\n",
      "請輸入numB:6\n",
      "numA跟numB相同大小\n"
     ]
    }
   ],
   "source": [
    "numA = int(input('請輸入numA:'))\n",
    "numB = int(input('請輸入numB:'))\n",
    "if numA < numB:\n",
    "    print('numB是比較大的數')\n",
    "elif numA > numB:\n",
    "    print('numA是比較大的數')\n",
    "else:\n",
    "    print('numA跟numB相同大小')"
   ]
  },
  {
   "cell_type": "markdown",
   "metadata": {},
   "source": [
    "# for 迴圈"
   ]
  },
  {
   "cell_type": "code",
   "execution_count": 9,
   "metadata": {},
   "outputs": [
    {
     "name": "stdout",
     "output_type": "stream",
     "text": [
      "總和: 55\n"
     ]
    }
   ],
   "source": [
    "sum = 0\n",
    "for i in range(1, 11):\n",
    "    sum = sum + i\n",
    "print('總和:', sum)"
   ]
  },
  {
   "cell_type": "code",
   "execution_count": 10,
   "metadata": {},
   "outputs": [
    {
     "name": "stdout",
     "output_type": "stream",
     "text": [
      "總和: 49\n"
     ]
    }
   ],
   "source": [
    "sample=[5,8,9,6,4,1,2,3,5,6]\n",
    "sum=0\n",
    "for i in sample:\n",
    "    sum = sum + i\n",
    "print('總和:', sum)"
   ]
  },
  {
   "cell_type": "markdown",
   "metadata": {},
   "source": [
    "# 隨堂練習\n",
    "雞兔同籠 共有35個頭,94隻腳 請問有幾隻雞,幾隻兔子"
   ]
  },
  {
   "cell_type": "code",
   "execution_count": 11,
   "metadata": {},
   "outputs": [
    {
     "name": "stdout",
     "output_type": "stream",
     "text": [
      "雞有 23 隻\n",
      "兔子有 12 隻\n"
     ]
    }
   ],
   "source": [
    "head = 35\n",
    "leg = 94\n",
    "for rabbit in range(0, head+1):\n",
    "    chicken=head-rabbit\n",
    "    if ((rabbit*4 + chicken*2) == 94):\n",
    "        print('雞有',chicken,'隻')\n",
    "        print('兔子有',rabbit,'隻')"
   ]
  },
  {
   "cell_type": "code",
   "execution_count": 12,
   "metadata": {},
   "outputs": [
    {
     "name": "stdout",
     "output_type": "stream",
     "text": [
      "I\n",
      " \n",
      "l\n",
      "o\n",
      "v\n",
      "e\n",
      " \n",
      "A\n",
      "v\n",
      "e\n",
      "n\n",
      "g\n",
      "e\n",
      "r\n",
      "s\n",
      " \n",
      "I\n",
      "V\n"
     ]
    }
   ],
   "source": [
    "mylist='I love Avengers IV'\n",
    "for character in mylist:\n",
    "    print(character)"
   ]
  },
  {
   "cell_type": "markdown",
   "metadata": {},
   "source": [
    "# while迴圈\n",
    "\n",
    "## 1+2+3+...+10的總和"
   ]
  },
  {
   "cell_type": "code",
   "execution_count": 1,
   "metadata": {},
   "outputs": [
    {
     "name": "stdout",
     "output_type": "stream",
     "text": [
      "1+2+3+...+10= 55\n"
     ]
    }
   ],
   "source": [
    "sum = 0\n",
    "count = 1\n",
    "while count <= 10:\n",
    "    sum = sum + count # sum += count\n",
    "    count +=1 # count= count +1\n",
    "print('1+2+3+...+10=', sum)"
   ]
  },
  {
   "cell_type": "markdown",
   "metadata": {},
   "source": [
    "# 銀行利息範例"
   ]
  },
  {
   "cell_type": "code",
   "execution_count": 3,
   "metadata": {},
   "outputs": [
    {
     "name": "stdout",
     "output_type": "stream",
     "text": [
      "67 年後，存款金額會加倍\n"
     ]
    }
   ],
   "source": [
    "x = 10000\n",
    "year = 0\n",
    "while x < 20000:\n",
    "    year += 1\n",
    "    x = x * 1.0104\n",
    "print(str(year),'年後，存款金額會加倍')"
   ]
  },
  {
   "cell_type": "markdown",
   "metadata": {},
   "source": [
    "# 帳號密碼程式"
   ]
  },
  {
   "cell_type": "code",
   "execution_count": 4,
   "metadata": {},
   "outputs": [
    {
     "name": "stdout",
     "output_type": "stream",
     "text": [
      "請輸入帳號:tony\n",
      "請輸入密碼:4321\n",
      "帳號/密碼輸入錯誤\n",
      "請輸入帳號:tony\n",
      "請輸入密碼:1234\n",
      "歡迎登入\n"
     ]
    }
   ],
   "source": [
    "id='tony'\n",
    "pwd='1234'\n",
    "\n",
    "while True:\n",
    "    x=input('請輸入帳號:')\n",
    "    y=input('請輸入密碼:')\n",
    "    if (x==id and y==pwd):\n",
    "        print('歡迎登入')\n",
    "        break\n",
    "    else:\n",
    "        print('帳號/密碼輸入錯誤')"
   ]
  },
  {
   "cell_type": "markdown",
   "metadata": {},
   "source": [
    "# break, continue, pass範例"
   ]
  },
  {
   "cell_type": "code",
   "execution_count": 5,
   "metadata": {},
   "outputs": [
    {
     "name": "stdout",
     "output_type": "stream",
     "text": [
      "C#\n",
      "Python\n"
     ]
    }
   ],
   "source": [
    "mylist=['C#','Python','Java','C++']\n",
    "for i in mylist:\n",
    "    if i=='Java':\n",
    "        break\n",
    "    else:\n",
    "        print(i)"
   ]
  },
  {
   "cell_type": "code",
   "execution_count": 6,
   "metadata": {},
   "outputs": [
    {
     "name": "stdout",
     "output_type": "stream",
     "text": [
      "C#\n",
      "Python\n",
      "C++\n"
     ]
    }
   ],
   "source": [
    "mylist=['C#','Python','Java','C++']\n",
    "for i in mylist:\n",
    "    if i=='Java':\n",
    "        continue\n",
    "    else:\n",
    "        print(i)"
   ]
  },
  {
   "cell_type": "code",
   "execution_count": 7,
   "metadata": {},
   "outputs": [
    {
     "name": "stdout",
     "output_type": "stream",
     "text": [
      "C#\n",
      "Python\n",
      "C++\n"
     ]
    }
   ],
   "source": [
    "mylist=['C#','Python','Java','C++']\n",
    "for i in mylist:\n",
    "    if i=='Java':\n",
    "        pass\n",
    "    else:\n",
    "        print(i)"
   ]
  },
  {
   "cell_type": "code",
   "execution_count": 8,
   "metadata": {},
   "outputs": [
    {
     "name": "stdout",
     "output_type": "stream",
     "text": [
      "0.45254356745937185\n",
      "0.8349776461457921\n",
      "0.6574096216836253\n",
      "0.22032898054333905\n",
      "0.3897190804466575\n",
      "0.008318954954330327\n",
      "0.17802288892208162\n",
      "0.7082632657669309\n",
      "0.6072081108567777\n",
      "0.8018108648091681\n"
     ]
    }
   ],
   "source": [
    "import random\n",
    "for i in range(0,10):\n",
    "    print(random.random())"
   ]
  },
  {
   "cell_type": "code",
   "execution_count": 9,
   "metadata": {},
   "outputs": [
    {
     "name": "stdout",
     "output_type": "stream",
     "text": [
      "6\n",
      "7\n",
      "2\n",
      "2\n",
      "7\n",
      "4\n",
      "4\n",
      "8\n",
      "8\n",
      "9\n"
     ]
    }
   ],
   "source": [
    "for i in range(0,10):\n",
    "    print(random.randint(1,9))"
   ]
  },
  {
   "cell_type": "code",
   "execution_count": 10,
   "metadata": {},
   "outputs": [
    {
     "name": "stdout",
     "output_type": "stream",
     "text": [
      "請輸入1-99的數字(q離開):50\n",
      "猜錯了\n",
      "請輸入1-99的數字(q離開):1\n",
      "猜錯了\n",
      "請輸入1-99的數字(q離開):99\n",
      "猜錯了\n",
      "請輸入1-99的數字(q離開):2\n",
      "猜錯了\n",
      "請輸入1-99的數字(q離開):q\n",
      "離開遊戲,正確數字是 45\n"
     ]
    }
   ],
   "source": [
    "import random\n",
    "number=random.randint(1,99)\n",
    "while True:\n",
    "    guess=input('請輸入1-99的數字(q離開):')\n",
    "    if guess == 'q':\n",
    "        print('離開遊戲,正確數字是',number)\n",
    "        break\n",
    "    else:\n",
    "        if number==int(guess):\n",
    "            print('恭喜,猜對了')\n",
    "            break\n",
    "        else:\n",
    "            print('猜錯了')"
   ]
  },
  {
   "cell_type": "code",
   "execution_count": null,
   "metadata": {},
   "outputs": [],
   "source": []
  }
 ],
 "metadata": {
  "kernelspec": {
   "display_name": "Python 3",
   "language": "python",
   "name": "python3"
  },
  "language_info": {
   "codemirror_mode": {
    "name": "ipython",
    "version": 3
   },
   "file_extension": ".py",
   "mimetype": "text/x-python",
   "name": "python",
   "nbconvert_exporter": "python",
   "pygments_lexer": "ipython3",
   "version": "3.7.1"
  }
 },
 "nbformat": 4,
 "nbformat_minor": 2
}
